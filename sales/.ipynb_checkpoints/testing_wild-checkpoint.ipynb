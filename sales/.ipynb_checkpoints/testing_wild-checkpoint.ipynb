{
 "cells": [
  {
   "cell_type": "code",
   "execution_count": 39,
   "metadata": {},
   "outputs": [],
   "source": [
    "import pandas as pd\n",
    "\n",
    "used= [\n",
    "    \"user__id\",\"user__screen_name\",\"user__location\",\"user__description\",\"user__created_at\",\n",
    "    \"user__geo_enabled\",\"retweeted_status__truncated\",\"text\",\"entities__hashtags__text\"\n",
    "]\n",
    "df=pd.read_csv(\"../data/Zimbabwe_2020-01-22.csv\", usecols=used)"
   ]
  },
  {
   "cell_type": "code",
   "execution_count": 40,
   "metadata": {},
   "outputs": [
    {
     "data": {
      "text/html": [
       "<div>\n",
       "<style scoped>\n",
       "    .dataframe tbody tr th:only-of-type {\n",
       "        vertical-align: middle;\n",
       "    }\n",
       "\n",
       "    .dataframe tbody tr th {\n",
       "        vertical-align: top;\n",
       "    }\n",
       "\n",
       "    .dataframe thead th {\n",
       "        text-align: right;\n",
       "    }\n",
       "</style>\n",
       "<table border=\"1\" class=\"dataframe\">\n",
       "  <thead>\n",
       "    <tr style=\"text-align: right;\">\n",
       "      <th></th>\n",
       "      <th>text</th>\n",
       "      <th>user__id</th>\n",
       "      <th>user__screen_name</th>\n",
       "      <th>user__location</th>\n",
       "      <th>user__description</th>\n",
       "      <th>user__created_at</th>\n",
       "      <th>user__geo_enabled</th>\n",
       "      <th>retweeted_status__truncated</th>\n",
       "    </tr>\n",
       "  </thead>\n",
       "  <tbody>\n",
       "    <tr>\n",
       "      <th>0</th>\n",
       "      <td>RT @thesafarisource: Keep in mind - close to t...</td>\n",
       "      <td>9.098807e+17</td>\n",
       "      <td>WildlingTravels</td>\n",
       "      <td>New Delhi, India</td>\n",
       "      <td>Travel the World along with us!\\nShare Picture...</td>\n",
       "      <td>Mon Sep 18 20:43:55 +0000 2017</td>\n",
       "      <td>False</td>\n",
       "      <td>True</td>\n",
       "    </tr>\n",
       "    <tr>\n",
       "      <th>1</th>\n",
       "      <td>NaN</td>\n",
       "      <td>NaN</td>\n",
       "      <td>NaN</td>\n",
       "      <td>NaN</td>\n",
       "      <td>NaN</td>\n",
       "      <td>NaN</td>\n",
       "      <td>NaN</td>\n",
       "      <td>NaN</td>\n",
       "    </tr>\n",
       "    <tr>\n",
       "      <th>2</th>\n",
       "      <td>Keep in mind - close to the Zambezi River in #...</td>\n",
       "      <td>6.118559e+08</td>\n",
       "      <td>thesafarisource</td>\n",
       "      <td>Bulawayo, Zimbabwe</td>\n",
       "      <td>Follow us for unique Bush Experiences | Tailor...</td>\n",
       "      <td>Mon Jun 18 17:43:05 +0000 2012</td>\n",
       "      <td>True</td>\n",
       "      <td>NaN</td>\n",
       "    </tr>\n",
       "    <tr>\n",
       "      <th>3</th>\n",
       "      <td>RT @Zoe_Flood: Nice to see both #Ethiopia and ...</td>\n",
       "      <td>4.745827e+08</td>\n",
       "      <td>luckmoremusoni</td>\n",
       "      <td>Harare Zimbabwe</td>\n",
       "      <td>He who is in me is greater than he who is in t...</td>\n",
       "      <td>Thu Jan 26 04:14:46 +0000 2012</td>\n",
       "      <td>False</td>\n",
       "      <td>True</td>\n",
       "    </tr>\n",
       "  </tbody>\n",
       "</table>\n",
       "</div>"
      ],
      "text/plain": [
       "                                                text      user__id  \\\n",
       "0  RT @thesafarisource: Keep in mind - close to t...  9.098807e+17   \n",
       "1                                                NaN           NaN   \n",
       "2  Keep in mind - close to the Zambezi River in #...  6.118559e+08   \n",
       "3  RT @Zoe_Flood: Nice to see both #Ethiopia and ...  4.745827e+08   \n",
       "\n",
       "  user__screen_name      user__location  \\\n",
       "0   WildlingTravels    New Delhi, India   \n",
       "1               NaN                 NaN   \n",
       "2   thesafarisource  Bulawayo, Zimbabwe   \n",
       "3    luckmoremusoni    Harare Zimbabwe    \n",
       "\n",
       "                                   user__description  \\\n",
       "0  Travel the World along with us!\\nShare Picture...   \n",
       "1                                                NaN   \n",
       "2  Follow us for unique Bush Experiences | Tailor...   \n",
       "3  He who is in me is greater than he who is in t...   \n",
       "\n",
       "                 user__created_at user__geo_enabled  \\\n",
       "0  Mon Sep 18 20:43:55 +0000 2017             False   \n",
       "1                             NaN               NaN   \n",
       "2  Mon Jun 18 17:43:05 +0000 2012              True   \n",
       "3  Thu Jan 26 04:14:46 +0000 2012             False   \n",
       "\n",
       "  retweeted_status__truncated  \n",
       "0                        True  \n",
       "1                         NaN  \n",
       "2                         NaN  \n",
       "3                        True  "
      ]
     },
     "execution_count": 40,
     "metadata": {},
     "output_type": "execute_result"
    }
   ],
   "source": [
    "df.head(4)"
   ]
  },
  {
   "cell_type": "code",
   "execution_count": 17,
   "metadata": {},
   "outputs": [],
   "source": [
    "rs = df.groupby(\"Engine size\")[\"Sales in thousands\"].agg(\"sum\")\n",
    "categories = list(rs.index)\n",
    "values = list(rs.values)"
   ]
  },
  {
   "cell_type": "code",
   "execution_count": 20,
   "metadata": {},
   "outputs": [
    {
     "data": {
      "text/plain": [
       "[53.48, 21.855, 41.184, 199.685, 365.39599999999996]"
      ]
     },
     "execution_count": 20,
     "metadata": {},
     "output_type": "execute_result"
    }
   ],
   "source": [
    "values[:5]"
   ]
  },
  {
   "cell_type": "code",
   "execution_count": 21,
   "metadata": {},
   "outputs": [
    {
     "data": {
      "text/plain": [
       "['.', '1', '1.5', '1.6', '1.8', '1.9', '2', '2.2', '2.3', '2.4']"
      ]
     },
     "execution_count": 21,
     "metadata": {},
     "output_type": "execute_result"
    }
   ],
   "source": [
    "categories[:10]"
   ]
  },
  {
   "cell_type": "code",
   "execution_count": 23,
   "metadata": {},
   "outputs": [
    {
     "data": {
      "text/plain": [
       "Engine size\n",
       ".       53.480\n",
       "1       21.855\n",
       "1.5     41.184\n",
       "1.6    199.685\n",
       "1.8    365.396\n",
       "1.9    130.891\n",
       "2      768.317\n",
       "2.2    451.974\n",
       "2.3    271.502\n",
       "2.4    670.368\n",
       "Name: Sales in thousands, dtype: float64"
      ]
     },
     "execution_count": 23,
     "metadata": {},
     "output_type": "execute_result"
    }
   ],
   "source": [
    "rs[:10]"
   ]
  },
  {
   "cell_type": "code",
   "execution_count": null,
   "metadata": {},
   "outputs": [],
   "source": []
  }
 ],
 "metadata": {
  "kernelspec": {
   "display_name": "Python 3",
   "language": "python",
   "name": "python3"
  },
  "language_info": {
   "codemirror_mode": {
    "name": "ipython",
    "version": 3
   },
   "file_extension": ".py",
   "mimetype": "text/x-python",
   "name": "python",
   "nbconvert_exporter": "python",
   "pygments_lexer": "ipython3",
   "version": "3.7.2"
  }
 },
 "nbformat": 4,
 "nbformat_minor": 1
}
